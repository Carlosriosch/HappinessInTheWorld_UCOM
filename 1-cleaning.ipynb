{
 "metadata": {
  "language_info": {
   "codemirror_mode": {
    "name": "ipython",
    "version": 3
   },
   "file_extension": ".py",
   "mimetype": "text/x-python",
   "name": "python",
   "nbconvert_exporter": "python",
   "pygments_lexer": "ipython3",
   "version": "3.7.8-final"
  },
  "orig_nbformat": 2,
  "kernelspec": {
   "name": "python3",
   "display_name": "Python 3.7.8 64-bit",
   "metadata": {
    "interpreter": {
     "hash": "3728d54920b36519bde81b6e868cbf3202350ad88864b9fe60d893204703d63d"
    }
   }
  }
 },
 "nbformat": 4,
 "nbformat_minor": 2,
 "cells": [
  {
   "cell_type": "code",
   "execution_count": 1,
   "metadata": {},
   "outputs": [],
   "source": [
    "import numpy as np\n",
    "import pandas as pd "
   ]
  },
  {
   "cell_type": "code",
   "execution_count": 3,
   "metadata": {},
   "outputs": [],
   "source": [
    "df_15=pd.read_csv('./original_data/2015.csv')\n",
    "df_16=pd.read_csv('./original_data/2016.csv')\n",
    "df_17=pd.read_csv('./original_data/2017.csv')\n",
    "df_18=pd.read_csv('./original_data/2018.csv')\n",
    "df_19=pd.read_csv('./original_data/2019.csv')\n",
    "df_20=pd.read_csv('./original_data/2020.csv')"
   ]
  },
  {
   "cell_type": "code",
   "execution_count": 4,
   "metadata": {
    "tags": []
   },
   "outputs": [],
   "source": [
    "df_list=[df_15, df_16, df_17, df_18, df_19, df_20]\n"
   ]
  },
  {
   "source": [
    "De algunos años tenemos más features (o caracteristicas), mientras que de otros años hay menos por ejemplo los años 2019 y 2018 solo tenemos 9 features. Por lo tanto elejimos los features de los años que tienen menos. Y cambiare el nombre de las columnas de los otros data frames para que todos los data frames tengan los mismos nombres. \n",
    "\n",
    "Por otro lado voy a ver la correlacion de algunos dataframe para ver si en algun feature me pierdo algo importante. "
   ],
   "cell_type": "markdown",
   "metadata": {}
  },
  {
   "cell_type": "code",
   "execution_count": 5,
   "metadata": {},
   "outputs": [
    {
     "output_type": "execute_result",
     "data": {
      "text/plain": [
       "Economy (GDP per Capita)         0.790673\n",
       "Health (Life Expectancy)         0.769177\n",
       "Family                           0.741523\n",
       "Freedom                          0.566857\n",
       "Dystopia Residual                0.538793\n",
       "Trust (Government Corruption)    0.404840\n",
       "Generosity                       0.158025\n",
       "Name: Lower Confidence Interval, dtype: float64"
      ]
     },
     "metadata": {},
     "execution_count": 5
    }
   ],
   "source": [
    "corr16=df_16.corr() \n",
    "corr16.iloc[4:, 2].sort_values(ascending=False) ### Uso 4 y 2 como coordenadas porque a partir de 4:tengo datos interesantes y en 2 está el score, entonces estos son los numeros de correlación entre cada feature y el score de felicidad\n",
    "\n",
    "## Pasa algo parecido con el año 2015 y 2017, el mismo orden de corr, y distopia residual"
   ]
  },
  {
   "cell_type": "code",
   "execution_count": 6,
   "metadata": {},
   "outputs": [
    {
     "output_type": "execute_result",
     "data": {
      "text/plain": [
       "GDP per capita                  0.793883\n",
       "Healthy life expectancy         0.779883\n",
       "Social support                  0.777058\n",
       "Freedom to make life choices    0.566742\n",
       "Perceptions of corruption       0.385613\n",
       "Generosity                      0.075824\n",
       "Name: Score, dtype: float64"
      ]
     },
     "metadata": {},
     "execution_count": 6
    }
   ],
   "source": [
    "corr19=df_19.corr()\n",
    "corr19.iloc[2:,1].sort_values(ascending=False)\n",
    "\n",
    "##podemos ver que tenemos casi el mismo orden de correlacion con respecto al año 2016. Y se cambio el concepto de family por social support que pensandolo bien, me parece mucho más acertado. Vamos a eleminar el concepto de dystopia residual. \n",
    "\n",
    "## El año 2018 también tiene el mismo orden de correlaciones y no dystopia residual"
   ]
  },
  {
   "cell_type": "code",
   "execution_count": 7,
   "metadata": {},
   "outputs": [
    {
     "output_type": "execute_result",
     "data": {
      "text/plain": [
       "Logged GDP per capita                         7.753744e-01\n",
       "Explained by: Log GDP per capita              7.753744e-01\n",
       "Healthy life expectancy                       7.703163e-01\n",
       "Explained by: Healthy life expectancy         7.703163e-01\n",
       "Social support                                7.650008e-01\n",
       "Explained by: Social support                  7.650008e-01\n",
       "Explained by: Freedom to make life choices    5.905968e-01\n",
       "Freedom to make life choices                  5.905968e-01\n",
       "Dystopia + residual                           4.802789e-01\n",
       "Explained by: Perceptions of corruption       4.183051e-01\n",
       "Explained by: Generosity                      6.904313e-02\n",
       "Generosity                                    6.904313e-02\n",
       "Ladder score in Dystopia                      2.761262e-15\n",
       "Perceptions of corruption                    -4.183051e-01\n",
       "Name: Ladder score, dtype: float64"
      ]
     },
     "metadata": {},
     "execution_count": 7
    }
   ],
   "source": [
    "corr20=df_20.corr()\n",
    "corr20.iloc[4:,0].sort_values(ascending=False)\n"
   ]
  },
  {
   "cell_type": "code",
   "execution_count": 8,
   "metadata": {
    "tags": []
   },
   "outputs": [
    {
     "output_type": "stream",
     "name": "stdout",
     "text": [
      "(158, 12)\nIndex(['Country', 'Region', 'Happiness Rank', 'Happiness Score',\n       'Standard Error', 'Economy (GDP per Capita)', 'Family',\n       'Health (Life Expectancy)', 'Freedom', 'Trust (Government Corruption)',\n       'Generosity', 'Dystopia Residual'],\n      dtype='object')\n(157, 13)\nIndex(['Country', 'Region', 'Happiness Rank', 'Happiness Score',\n       'Lower Confidence Interval', 'Upper Confidence Interval',\n       'Economy (GDP per Capita)', 'Family', 'Health (Life Expectancy)',\n       'Freedom', 'Trust (Government Corruption)', 'Generosity',\n       'Dystopia Residual'],\n      dtype='object')\n(155, 12)\nIndex(['Country', 'Happiness.Rank', 'Happiness.Score', 'Whisker.high',\n       'Whisker.low', 'Economy..GDP.per.Capita.', 'Family',\n       'Health..Life.Expectancy.', 'Freedom', 'Generosity',\n       'Trust..Government.Corruption.', 'Dystopia.Residual'],\n      dtype='object')\n(156, 9)\nIndex(['Overall rank', 'Country or region', 'Score', 'GDP per capita',\n       'Social support', 'Healthy life expectancy',\n       'Freedom to make life choices', 'Generosity',\n       'Perceptions of corruption'],\n      dtype='object')\n(156, 9)\nIndex(['Overall rank', 'Country or region', 'Score', 'GDP per capita',\n       'Social support', 'Healthy life expectancy',\n       'Freedom to make life choices', 'Generosity',\n       'Perceptions of corruption'],\n      dtype='object')\n(153, 20)\nIndex(['Country name', 'Regional indicator', 'Ladder score',\n       'Standard error of ladder score', 'upperwhisker', 'lowerwhisker',\n       'Logged GDP per capita', 'Social support', 'Healthy life expectancy',\n       'Freedom to make life choices', 'Generosity',\n       'Perceptions of corruption', 'Ladder score in Dystopia',\n       'Explained by: Log GDP per capita', 'Explained by: Social support',\n       'Explained by: Healthy life expectancy',\n       'Explained by: Freedom to make life choices',\n       'Explained by: Generosity', 'Explained by: Perceptions of corruption',\n       'Dystopia + residual'],\n      dtype='object')\n"
     ]
    }
   ],
   "source": [
    "#Como se puede ver es un problema tener features que no se usara y además que cada data frame tiene distintos nombres de features así que voy a cambiar los nombres y a eliminar los features que no nos sirven. \n",
    "for i in range(len(df_list)):\n",
    "    print(df_list[i].shape)\n",
    "    print(df_list[i].columns)\n",
    "\n"
   ]
  },
  {
   "cell_type": "code",
   "execution_count": 9,
   "metadata": {},
   "outputs": [],
   "source": [
    "Features=['Country', 'Economy', 'Healthy', 'Social', 'Freedom', 'Corruption', 'Generosity']"
   ]
  },
  {
   "cell_type": "code",
   "execution_count": 10,
   "metadata": {},
   "outputs": [],
   "source": [
    "###TODO obs! Quizas luego tenga que volver a trabajar Country porque aveces se cuenta con datos de más paises y a veces menos. Por otro lado podria ser interesante extrapolar también por regiones. Y más importante, es posible que tengan diferentes nombres por ejemplo United States of America o USA. "
   ]
  },
  {
   "cell_type": "code",
   "execution_count": 11,
   "metadata": {},
   "outputs": [
    {
     "output_type": "execute_result",
     "data": {
      "text/plain": [
       "         Country  Economy  Healthy   Social  Freedom  Corruption  Generosity  \\\n",
       "0    Switzerland  1.39651  0.94143  1.34951  0.66557     0.41978     0.29678   \n",
       "1        Iceland  1.30232  0.94784  1.40223  0.62877     0.14145     0.43630   \n",
       "2        Denmark  1.32548  0.87464  1.36058  0.64938     0.48357     0.34139   \n",
       "3         Norway  1.45900  0.88521  1.33095  0.66973     0.36503     0.34699   \n",
       "4         Canada  1.32629  0.90563  1.32261  0.63297     0.32957     0.45811   \n",
       "..           ...      ...      ...      ...      ...         ...         ...   \n",
       "153       Rwanda  0.22208  0.42864  0.77370  0.59201     0.55191     0.22628   \n",
       "154        Benin  0.28665  0.31910  0.35386  0.48450     0.08010     0.18260   \n",
       "155        Syria  0.66320  0.72193  0.47489  0.15684     0.18906     0.47179   \n",
       "156      Burundi  0.01530  0.22396  0.41587  0.11850     0.10062     0.19727   \n",
       "157         Togo  0.20868  0.28443  0.13995  0.36453     0.10731     0.16681   \n",
       "\n",
       "     Score  \n",
       "0    7.587  \n",
       "1    7.561  \n",
       "2    7.527  \n",
       "3    7.522  \n",
       "4    7.427  \n",
       "..     ...  \n",
       "153  3.465  \n",
       "154  3.340  \n",
       "155  3.006  \n",
       "156  2.905  \n",
       "157  2.839  \n",
       "\n",
       "[158 rows x 8 columns]"
      ],
      "text/html": "<div>\n<style scoped>\n    .dataframe tbody tr th:only-of-type {\n        vertical-align: middle;\n    }\n\n    .dataframe tbody tr th {\n        vertical-align: top;\n    }\n\n    .dataframe thead th {\n        text-align: right;\n    }\n</style>\n<table border=\"1\" class=\"dataframe\">\n  <thead>\n    <tr style=\"text-align: right;\">\n      <th></th>\n      <th>Country</th>\n      <th>Economy</th>\n      <th>Healthy</th>\n      <th>Social</th>\n      <th>Freedom</th>\n      <th>Corruption</th>\n      <th>Generosity</th>\n      <th>Score</th>\n    </tr>\n  </thead>\n  <tbody>\n    <tr>\n      <th>0</th>\n      <td>Switzerland</td>\n      <td>1.39651</td>\n      <td>0.94143</td>\n      <td>1.34951</td>\n      <td>0.66557</td>\n      <td>0.41978</td>\n      <td>0.29678</td>\n      <td>7.587</td>\n    </tr>\n    <tr>\n      <th>1</th>\n      <td>Iceland</td>\n      <td>1.30232</td>\n      <td>0.94784</td>\n      <td>1.40223</td>\n      <td>0.62877</td>\n      <td>0.14145</td>\n      <td>0.43630</td>\n      <td>7.561</td>\n    </tr>\n    <tr>\n      <th>2</th>\n      <td>Denmark</td>\n      <td>1.32548</td>\n      <td>0.87464</td>\n      <td>1.36058</td>\n      <td>0.64938</td>\n      <td>0.48357</td>\n      <td>0.34139</td>\n      <td>7.527</td>\n    </tr>\n    <tr>\n      <th>3</th>\n      <td>Norway</td>\n      <td>1.45900</td>\n      <td>0.88521</td>\n      <td>1.33095</td>\n      <td>0.66973</td>\n      <td>0.36503</td>\n      <td>0.34699</td>\n      <td>7.522</td>\n    </tr>\n    <tr>\n      <th>4</th>\n      <td>Canada</td>\n      <td>1.32629</td>\n      <td>0.90563</td>\n      <td>1.32261</td>\n      <td>0.63297</td>\n      <td>0.32957</td>\n      <td>0.45811</td>\n      <td>7.427</td>\n    </tr>\n    <tr>\n      <th>...</th>\n      <td>...</td>\n      <td>...</td>\n      <td>...</td>\n      <td>...</td>\n      <td>...</td>\n      <td>...</td>\n      <td>...</td>\n      <td>...</td>\n    </tr>\n    <tr>\n      <th>153</th>\n      <td>Rwanda</td>\n      <td>0.22208</td>\n      <td>0.42864</td>\n      <td>0.77370</td>\n      <td>0.59201</td>\n      <td>0.55191</td>\n      <td>0.22628</td>\n      <td>3.465</td>\n    </tr>\n    <tr>\n      <th>154</th>\n      <td>Benin</td>\n      <td>0.28665</td>\n      <td>0.31910</td>\n      <td>0.35386</td>\n      <td>0.48450</td>\n      <td>0.08010</td>\n      <td>0.18260</td>\n      <td>3.340</td>\n    </tr>\n    <tr>\n      <th>155</th>\n      <td>Syria</td>\n      <td>0.66320</td>\n      <td>0.72193</td>\n      <td>0.47489</td>\n      <td>0.15684</td>\n      <td>0.18906</td>\n      <td>0.47179</td>\n      <td>3.006</td>\n    </tr>\n    <tr>\n      <th>156</th>\n      <td>Burundi</td>\n      <td>0.01530</td>\n      <td>0.22396</td>\n      <td>0.41587</td>\n      <td>0.11850</td>\n      <td>0.10062</td>\n      <td>0.19727</td>\n      <td>2.905</td>\n    </tr>\n    <tr>\n      <th>157</th>\n      <td>Togo</td>\n      <td>0.20868</td>\n      <td>0.28443</td>\n      <td>0.13995</td>\n      <td>0.36453</td>\n      <td>0.10731</td>\n      <td>0.16681</td>\n      <td>2.839</td>\n    </tr>\n  </tbody>\n</table>\n<p>158 rows × 8 columns</p>\n</div>"
     },
     "metadata": {},
     "execution_count": 11
    }
   ],
   "source": [
    "df15=pd.DataFrame()\n",
    "df15[Features[0]]=df_15['Country']\n",
    "df15[Features[1]]=df_15['Economy (GDP per Capita)']\n",
    "df15[Features[2]]=df_15['Health (Life Expectancy)']\n",
    "df15[Features[3]]=df_15['Family']\n",
    "df15[Features[4]]=df_15['Freedom']\n",
    "df15[Features[5]]=df_15['Trust (Government Corruption)']\n",
    "df15[Features[6]]=df_15['Generosity']\n",
    "df15['Score']=df_15['Happiness Score']\n",
    "df15"
   ]
  },
  {
   "cell_type": "code",
   "execution_count": 12,
   "metadata": {},
   "outputs": [
    {
     "output_type": "execute_result",
     "data": {
      "text/plain": [
       "       Country  Economy  Healthy   Social  Freedom  Corruption  Generosity  \\\n",
       "0      Denmark  1.44178  0.79504  1.16374  0.57941     0.44453     0.36171   \n",
       "1  Switzerland  1.52733  0.86303  1.14524  0.58557     0.41203     0.28083   \n",
       "2      Iceland  1.42666  0.86733  1.18326  0.56624     0.14975     0.47678   \n",
       "3       Norway  1.57744  0.79579  1.12690  0.59609     0.35776     0.37895   \n",
       "4      Finland  1.40598  0.81091  1.13464  0.57104     0.41004     0.25492   \n",
       "\n",
       "   Score  \n",
       "0  7.526  \n",
       "1  7.509  \n",
       "2  7.501  \n",
       "3  7.498  \n",
       "4  7.413  "
      ],
      "text/html": "<div>\n<style scoped>\n    .dataframe tbody tr th:only-of-type {\n        vertical-align: middle;\n    }\n\n    .dataframe tbody tr th {\n        vertical-align: top;\n    }\n\n    .dataframe thead th {\n        text-align: right;\n    }\n</style>\n<table border=\"1\" class=\"dataframe\">\n  <thead>\n    <tr style=\"text-align: right;\">\n      <th></th>\n      <th>Country</th>\n      <th>Economy</th>\n      <th>Healthy</th>\n      <th>Social</th>\n      <th>Freedom</th>\n      <th>Corruption</th>\n      <th>Generosity</th>\n      <th>Score</th>\n    </tr>\n  </thead>\n  <tbody>\n    <tr>\n      <th>0</th>\n      <td>Denmark</td>\n      <td>1.44178</td>\n      <td>0.79504</td>\n      <td>1.16374</td>\n      <td>0.57941</td>\n      <td>0.44453</td>\n      <td>0.36171</td>\n      <td>7.526</td>\n    </tr>\n    <tr>\n      <th>1</th>\n      <td>Switzerland</td>\n      <td>1.52733</td>\n      <td>0.86303</td>\n      <td>1.14524</td>\n      <td>0.58557</td>\n      <td>0.41203</td>\n      <td>0.28083</td>\n      <td>7.509</td>\n    </tr>\n    <tr>\n      <th>2</th>\n      <td>Iceland</td>\n      <td>1.42666</td>\n      <td>0.86733</td>\n      <td>1.18326</td>\n      <td>0.56624</td>\n      <td>0.14975</td>\n      <td>0.47678</td>\n      <td>7.501</td>\n    </tr>\n    <tr>\n      <th>3</th>\n      <td>Norway</td>\n      <td>1.57744</td>\n      <td>0.79579</td>\n      <td>1.12690</td>\n      <td>0.59609</td>\n      <td>0.35776</td>\n      <td>0.37895</td>\n      <td>7.498</td>\n    </tr>\n    <tr>\n      <th>4</th>\n      <td>Finland</td>\n      <td>1.40598</td>\n      <td>0.81091</td>\n      <td>1.13464</td>\n      <td>0.57104</td>\n      <td>0.41004</td>\n      <td>0.25492</td>\n      <td>7.413</td>\n    </tr>\n  </tbody>\n</table>\n</div>"
     },
     "metadata": {},
     "execution_count": 12
    }
   ],
   "source": [
    "df16=pd.DataFrame()\n",
    "df16[Features[0]]=df_16['Country']\n",
    "df16[Features[1]]=df_16['Economy (GDP per Capita)']\n",
    "df16[Features[2]]=df_16['Health (Life Expectancy)']\n",
    "df16[Features[3]]=df_16['Family']\n",
    "df16[Features[4]]=df_16['Freedom']\n",
    "df16[Features[5]]=df_16['Trust (Government Corruption)']\n",
    "df16[Features[6]]=df_16['Generosity']\n",
    "df16['Score']=df_16['Happiness Score']\n",
    "df16.head()\n",
    "\n",
    "\n",
    "       "
   ]
  },
  {
   "cell_type": "code",
   "execution_count": 13,
   "metadata": {},
   "outputs": [
    {
     "output_type": "execute_result",
     "data": {
      "text/plain": [
       "       Country   Economy   Healthy    Social   Freedom  Corruption  \\\n",
       "0       Norway  1.616463  0.796667  1.533524  0.635423    0.315964   \n",
       "1      Denmark  1.482383  0.792566  1.551122  0.626007    0.400770   \n",
       "2      Iceland  1.480633  0.833552  1.610574  0.627163    0.153527   \n",
       "3  Switzerland  1.564980  0.858131  1.516912  0.620071    0.367007   \n",
       "4      Finland  1.443572  0.809158  1.540247  0.617951    0.382612   \n",
       "\n",
       "   Generosity  Score  \n",
       "0    0.362012  7.537  \n",
       "1    0.355280  7.522  \n",
       "2    0.475540  7.504  \n",
       "3    0.290549  7.494  \n",
       "4    0.245483  7.469  "
      ],
      "text/html": "<div>\n<style scoped>\n    .dataframe tbody tr th:only-of-type {\n        vertical-align: middle;\n    }\n\n    .dataframe tbody tr th {\n        vertical-align: top;\n    }\n\n    .dataframe thead th {\n        text-align: right;\n    }\n</style>\n<table border=\"1\" class=\"dataframe\">\n  <thead>\n    <tr style=\"text-align: right;\">\n      <th></th>\n      <th>Country</th>\n      <th>Economy</th>\n      <th>Healthy</th>\n      <th>Social</th>\n      <th>Freedom</th>\n      <th>Corruption</th>\n      <th>Generosity</th>\n      <th>Score</th>\n    </tr>\n  </thead>\n  <tbody>\n    <tr>\n      <th>0</th>\n      <td>Norway</td>\n      <td>1.616463</td>\n      <td>0.796667</td>\n      <td>1.533524</td>\n      <td>0.635423</td>\n      <td>0.315964</td>\n      <td>0.362012</td>\n      <td>7.537</td>\n    </tr>\n    <tr>\n      <th>1</th>\n      <td>Denmark</td>\n      <td>1.482383</td>\n      <td>0.792566</td>\n      <td>1.551122</td>\n      <td>0.626007</td>\n      <td>0.400770</td>\n      <td>0.355280</td>\n      <td>7.522</td>\n    </tr>\n    <tr>\n      <th>2</th>\n      <td>Iceland</td>\n      <td>1.480633</td>\n      <td>0.833552</td>\n      <td>1.610574</td>\n      <td>0.627163</td>\n      <td>0.153527</td>\n      <td>0.475540</td>\n      <td>7.504</td>\n    </tr>\n    <tr>\n      <th>3</th>\n      <td>Switzerland</td>\n      <td>1.564980</td>\n      <td>0.858131</td>\n      <td>1.516912</td>\n      <td>0.620071</td>\n      <td>0.367007</td>\n      <td>0.290549</td>\n      <td>7.494</td>\n    </tr>\n    <tr>\n      <th>4</th>\n      <td>Finland</td>\n      <td>1.443572</td>\n      <td>0.809158</td>\n      <td>1.540247</td>\n      <td>0.617951</td>\n      <td>0.382612</td>\n      <td>0.245483</td>\n      <td>7.469</td>\n    </tr>\n  </tbody>\n</table>\n</div>"
     },
     "metadata": {},
     "execution_count": 13
    }
   ],
   "source": [
    "df17=pd.DataFrame()\n",
    "df17[Features[0]]=df_17['Country']\n",
    "df17[Features[1]]=df_17['Economy..GDP.per.Capita.']\n",
    "df17[Features[2]]=df_17['Health..Life.Expectancy.']\n",
    "df17[Features[3]]=df_17['Family']\n",
    "df17[Features[4]]=df_17['Freedom']\n",
    "df17[Features[5]]=df_17['Trust..Government.Corruption.']\n",
    "df17[Features[6]]=df_17['Generosity']\n",
    "df17['Score']=df_17['Happiness.Score']\n",
    "df17.head()"
   ]
  },
  {
   "cell_type": "code",
   "execution_count": 14,
   "metadata": {},
   "outputs": [
    {
     "output_type": "execute_result",
     "data": {
      "text/plain": [
       "       Country  Economy  Healthy  Social  Freedom  Corruption  Generosity  \\\n",
       "0      Finland    1.305    0.874   1.592    0.681       0.393       0.202   \n",
       "1       Norway    1.456    0.861   1.582    0.686       0.340       0.286   \n",
       "2      Denmark    1.351    0.868   1.590    0.683       0.408       0.284   \n",
       "3      Iceland    1.343    0.914   1.644    0.677       0.138       0.353   \n",
       "4  Switzerland    1.420    0.927   1.549    0.660       0.357       0.256   \n",
       "\n",
       "   Score  \n",
       "0  7.632  \n",
       "1  7.594  \n",
       "2  7.555  \n",
       "3  7.495  \n",
       "4  7.487  "
      ],
      "text/html": "<div>\n<style scoped>\n    .dataframe tbody tr th:only-of-type {\n        vertical-align: middle;\n    }\n\n    .dataframe tbody tr th {\n        vertical-align: top;\n    }\n\n    .dataframe thead th {\n        text-align: right;\n    }\n</style>\n<table border=\"1\" class=\"dataframe\">\n  <thead>\n    <tr style=\"text-align: right;\">\n      <th></th>\n      <th>Country</th>\n      <th>Economy</th>\n      <th>Healthy</th>\n      <th>Social</th>\n      <th>Freedom</th>\n      <th>Corruption</th>\n      <th>Generosity</th>\n      <th>Score</th>\n    </tr>\n  </thead>\n  <tbody>\n    <tr>\n      <th>0</th>\n      <td>Finland</td>\n      <td>1.305</td>\n      <td>0.874</td>\n      <td>1.592</td>\n      <td>0.681</td>\n      <td>0.393</td>\n      <td>0.202</td>\n      <td>7.632</td>\n    </tr>\n    <tr>\n      <th>1</th>\n      <td>Norway</td>\n      <td>1.456</td>\n      <td>0.861</td>\n      <td>1.582</td>\n      <td>0.686</td>\n      <td>0.340</td>\n      <td>0.286</td>\n      <td>7.594</td>\n    </tr>\n    <tr>\n      <th>2</th>\n      <td>Denmark</td>\n      <td>1.351</td>\n      <td>0.868</td>\n      <td>1.590</td>\n      <td>0.683</td>\n      <td>0.408</td>\n      <td>0.284</td>\n      <td>7.555</td>\n    </tr>\n    <tr>\n      <th>3</th>\n      <td>Iceland</td>\n      <td>1.343</td>\n      <td>0.914</td>\n      <td>1.644</td>\n      <td>0.677</td>\n      <td>0.138</td>\n      <td>0.353</td>\n      <td>7.495</td>\n    </tr>\n    <tr>\n      <th>4</th>\n      <td>Switzerland</td>\n      <td>1.420</td>\n      <td>0.927</td>\n      <td>1.549</td>\n      <td>0.660</td>\n      <td>0.357</td>\n      <td>0.256</td>\n      <td>7.487</td>\n    </tr>\n  </tbody>\n</table>\n</div>"
     },
     "metadata": {},
     "execution_count": 14
    }
   ],
   "source": [
    "df18=pd.DataFrame()\n",
    "df18[Features[0]]=df_18['Country or region']\n",
    "df18[Features[1]]=df_18['GDP per capita']\n",
    "df18[Features[2]]=df_18['Healthy life expectancy']\n",
    "df18[Features[3]]=df_18['Social support']\n",
    "df18[Features[4]]=df_18['Freedom to make life choices']\n",
    "df18[Features[5]]=df_18['Perceptions of corruption']\n",
    "df18[Features[6]]=df_18['Generosity']\n",
    "df18['Score']=df_18['Score']\n",
    "df18.head()"
   ]
  },
  {
   "cell_type": "code",
   "execution_count": 15,
   "metadata": {},
   "outputs": [
    {
     "output_type": "execute_result",
     "data": {
      "text/plain": [
       "       Country  Economy  Healthy  Social  Freedom  Corruption  Generosity  \\\n",
       "0      Finland    1.340    0.986   1.587    0.596       0.393       0.153   \n",
       "1      Denmark    1.383    0.996   1.573    0.592       0.410       0.252   \n",
       "2       Norway    1.488    1.028   1.582    0.603       0.341       0.271   \n",
       "3      Iceland    1.380    1.026   1.624    0.591       0.118       0.354   \n",
       "4  Netherlands    1.396    0.999   1.522    0.557       0.298       0.322   \n",
       "\n",
       "   Score  \n",
       "0  7.769  \n",
       "1  7.600  \n",
       "2  7.554  \n",
       "3  7.494  \n",
       "4  7.488  "
      ],
      "text/html": "<div>\n<style scoped>\n    .dataframe tbody tr th:only-of-type {\n        vertical-align: middle;\n    }\n\n    .dataframe tbody tr th {\n        vertical-align: top;\n    }\n\n    .dataframe thead th {\n        text-align: right;\n    }\n</style>\n<table border=\"1\" class=\"dataframe\">\n  <thead>\n    <tr style=\"text-align: right;\">\n      <th></th>\n      <th>Country</th>\n      <th>Economy</th>\n      <th>Healthy</th>\n      <th>Social</th>\n      <th>Freedom</th>\n      <th>Corruption</th>\n      <th>Generosity</th>\n      <th>Score</th>\n    </tr>\n  </thead>\n  <tbody>\n    <tr>\n      <th>0</th>\n      <td>Finland</td>\n      <td>1.340</td>\n      <td>0.986</td>\n      <td>1.587</td>\n      <td>0.596</td>\n      <td>0.393</td>\n      <td>0.153</td>\n      <td>7.769</td>\n    </tr>\n    <tr>\n      <th>1</th>\n      <td>Denmark</td>\n      <td>1.383</td>\n      <td>0.996</td>\n      <td>1.573</td>\n      <td>0.592</td>\n      <td>0.410</td>\n      <td>0.252</td>\n      <td>7.600</td>\n    </tr>\n    <tr>\n      <th>2</th>\n      <td>Norway</td>\n      <td>1.488</td>\n      <td>1.028</td>\n      <td>1.582</td>\n      <td>0.603</td>\n      <td>0.341</td>\n      <td>0.271</td>\n      <td>7.554</td>\n    </tr>\n    <tr>\n      <th>3</th>\n      <td>Iceland</td>\n      <td>1.380</td>\n      <td>1.026</td>\n      <td>1.624</td>\n      <td>0.591</td>\n      <td>0.118</td>\n      <td>0.354</td>\n      <td>7.494</td>\n    </tr>\n    <tr>\n      <th>4</th>\n      <td>Netherlands</td>\n      <td>1.396</td>\n      <td>0.999</td>\n      <td>1.522</td>\n      <td>0.557</td>\n      <td>0.298</td>\n      <td>0.322</td>\n      <td>7.488</td>\n    </tr>\n  </tbody>\n</table>\n</div>"
     },
     "metadata": {},
     "execution_count": 15
    }
   ],
   "source": [
    "df19=pd.DataFrame()\n",
    "df19[Features[0]]=df_19['Country or region']\n",
    "df19[Features[1]]=df_19['GDP per capita']\n",
    "df19[Features[2]]=df_19['Healthy life expectancy']\n",
    "df19[Features[3]]=df_19['Social support']\n",
    "df19[Features[4]]=df_19['Freedom to make life choices']\n",
    "df19[Features[5]]=df_19['Perceptions of corruption']\n",
    "df19[Features[6]]=df_19['Generosity']\n",
    "df19['Score']=df_19['Score']\n",
    "df19.head()"
   ]
  },
  {
   "cell_type": "code",
   "execution_count": 16,
   "metadata": {},
   "outputs": [
    {
     "output_type": "execute_result",
     "data": {
      "text/plain": [
       "Index(['Country name', 'Regional indicator', 'Ladder score',\n",
       "       'Standard error of ladder score', 'upperwhisker', 'lowerwhisker',\n",
       "       'Logged GDP per capita', 'Social support', 'Healthy life expectancy',\n",
       "       'Freedom to make life choices', 'Generosity',\n",
       "       'Perceptions of corruption', 'Ladder score in Dystopia',\n",
       "       'Explained by: Log GDP per capita', 'Explained by: Social support',\n",
       "       'Explained by: Healthy life expectancy',\n",
       "       'Explained by: Freedom to make life choices',\n",
       "       'Explained by: Generosity', 'Explained by: Perceptions of corruption',\n",
       "       'Dystopia + residual'],\n",
       "      dtype='object')"
      ]
     },
     "metadata": {},
     "execution_count": 16
    }
   ],
   "source": [
    "df_20.columns"
   ]
  },
  {
   "cell_type": "code",
   "execution_count": 17,
   "metadata": {},
   "outputs": [
    {
     "output_type": "execute_result",
     "data": {
      "text/plain": [
       "       Country   Economy   Healthy    Social   Freedom  Corruption  \\\n",
       "0      Finland  1.285190  0.961271  1.499526  0.662317    0.477857   \n",
       "1      Denmark  1.326949  0.979333  1.503449  0.665040    0.495260   \n",
       "2  Switzerland  1.390774  1.040533  1.472403  0.628954    0.407946   \n",
       "3      Iceland  1.326502  1.000843  1.547567  0.661981    0.144541   \n",
       "4       Norway  1.424207  1.008072  1.495173  0.670201    0.434101   \n",
       "\n",
       "   Generosity   Score  \n",
       "0    0.159670  7.8087  \n",
       "1    0.242793  7.6456  \n",
       "2    0.269056  7.5599  \n",
       "3    0.362330  7.5045  \n",
       "4    0.287985  7.4880  "
      ],
      "text/html": "<div>\n<style scoped>\n    .dataframe tbody tr th:only-of-type {\n        vertical-align: middle;\n    }\n\n    .dataframe tbody tr th {\n        vertical-align: top;\n    }\n\n    .dataframe thead th {\n        text-align: right;\n    }\n</style>\n<table border=\"1\" class=\"dataframe\">\n  <thead>\n    <tr style=\"text-align: right;\">\n      <th></th>\n      <th>Country</th>\n      <th>Economy</th>\n      <th>Healthy</th>\n      <th>Social</th>\n      <th>Freedom</th>\n      <th>Corruption</th>\n      <th>Generosity</th>\n      <th>Score</th>\n    </tr>\n  </thead>\n  <tbody>\n    <tr>\n      <th>0</th>\n      <td>Finland</td>\n      <td>1.285190</td>\n      <td>0.961271</td>\n      <td>1.499526</td>\n      <td>0.662317</td>\n      <td>0.477857</td>\n      <td>0.159670</td>\n      <td>7.8087</td>\n    </tr>\n    <tr>\n      <th>1</th>\n      <td>Denmark</td>\n      <td>1.326949</td>\n      <td>0.979333</td>\n      <td>1.503449</td>\n      <td>0.665040</td>\n      <td>0.495260</td>\n      <td>0.242793</td>\n      <td>7.6456</td>\n    </tr>\n    <tr>\n      <th>2</th>\n      <td>Switzerland</td>\n      <td>1.390774</td>\n      <td>1.040533</td>\n      <td>1.472403</td>\n      <td>0.628954</td>\n      <td>0.407946</td>\n      <td>0.269056</td>\n      <td>7.5599</td>\n    </tr>\n    <tr>\n      <th>3</th>\n      <td>Iceland</td>\n      <td>1.326502</td>\n      <td>1.000843</td>\n      <td>1.547567</td>\n      <td>0.661981</td>\n      <td>0.144541</td>\n      <td>0.362330</td>\n      <td>7.5045</td>\n    </tr>\n    <tr>\n      <th>4</th>\n      <td>Norway</td>\n      <td>1.424207</td>\n      <td>1.008072</td>\n      <td>1.495173</td>\n      <td>0.670201</td>\n      <td>0.434101</td>\n      <td>0.287985</td>\n      <td>7.4880</td>\n    </tr>\n  </tbody>\n</table>\n</div>"
     },
     "metadata": {},
     "execution_count": 17
    }
   ],
   "source": [
    "df20=pd.DataFrame()\n",
    "df20[Features[0]]=df_20['Country name']\n",
    "df20[Features[1]]=df_20['Explained by: Log GDP per capita']\n",
    "df20[Features[2]]=df_20['Explained by: Healthy life expectancy']\n",
    "df20[Features[3]]=df_20['Explained by: Social support']\n",
    "df20[Features[4]]=df_20['Explained by: Freedom to make life choices']\n",
    "df20[Features[5]]=df_20['Explained by: Perceptions of corruption']\n",
    "df20[Features[6]]=df_20['Explained by: Generosity']\n",
    "df20['Score']=df_20['Ladder score']\n",
    "df20.head()"
   ]
  },
  {
   "cell_type": "code",
   "execution_count": 20,
   "metadata": {},
   "outputs": [],
   "source": [
    "df_list_clean=[df15, df16, df17, df18, df19, df20]"
   ]
  },
  {
   "cell_type": "code",
   "execution_count": 21,
   "metadata": {},
   "outputs": [],
   "source": [
    "for i in range(len(df_list_clean)):\n",
    "    year=i+2015\n",
    "    df_list_clean[i].to_csv(f'./data/{year}.csv')"
   ]
  },
  {
   "cell_type": "code",
   "execution_count": 22,
   "metadata": {
    "tags": []
   },
   "outputs": [],
   "source": [
    "df15y=df15\n",
    "df15y['Year']=2015\n",
    "df16y=df16\n",
    "df16y['Year']=2016\n",
    "df17y=df17\n",
    "df17y['Year']=2017\n",
    "df18y=df18\n",
    "df18y['Year']=2018\n",
    "df19y=df19\n",
    "df19y['Year']=2019\n",
    "df20y=df20\n",
    "df20y['Year']=2020\n"
   ]
  },
  {
   "cell_type": "code",
   "execution_count": 23,
   "metadata": {},
   "outputs": [],
   "source": [
    "DFy=df15y.merge(df16y, how='outer')  \n",
    "DFy=DFy.merge(df17y, how='outer')  \n",
    "DFy=DFy.merge(df18y, how='outer')\n",
    "DFy=DFy.merge(df19y, how='outer')  \n",
    "DFy=DFy.merge(df20y, how='outer')    "
   ]
  },
  {
   "cell_type": "code",
   "execution_count": 24,
   "metadata": {},
   "outputs": [],
   "source": [
    "DFy.sort_values('Score', ascending=False, inplace=True)\n",
    "DFy.to_csv(f'./data/all_data_in_one+years.csv')"
   ]
  },
  {
   "cell_type": "code",
   "execution_count": null,
   "metadata": {},
   "outputs": [],
   "source": []
  },
  {
   "cell_type": "code",
   "execution_count": null,
   "metadata": {},
   "outputs": [],
   "source": []
  }
 ]
}